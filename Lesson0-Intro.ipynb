{
 "cells": [
  {
   "cell_type": "markdown",
   "metadata": {},
   "source": [
    "# Lesson 0. Introduction to Python\n",
    "\n",
    "This is Brown's Google IgniteCS tutorial for learning Python 2.7!\n",
    "\n",
    "In this tutorial series, you will learn the basics of programming through Python, and grasp core concepts required for more advanced computer science concepts in the future."
   ]
  },
  {
   "cell_type": "markdown",
   "metadata": {},
   "source": [
    "We will be learning about how to use Python in this online notebook! Just like a real notebook, there are sections for where things can go, like notes, examples, homework, doodles, ect. \n",
    "\n",
    "This section you are currently reading is called a 'Markdown' section, which means it simply displays text and does not run any code. \n",
    "\n",
    "However, directly below this section is a 'Code' section where you can type and run Python. For example, below is some basic python code to check if 1+1 is equivalent to 4-2. You can run the code by clicking on the code section and then hitting SHIFT + ENTER, or hitting the run button at the top of screen."
   ]
  },
  {
   "cell_type": "code",
   "execution_count": null,
   "metadata": {},
   "outputs": [],
   "source": [
    "1+1 == 4-2"
   ]
  },
  {
   "cell_type": "markdown",
   "metadata": {},
   "source": [
    "If done correctly, you should see `True` written below that section of the code.\n",
    "\n",
    "That's all you need to know to delve into the tutorial series! Head to Lesson 1 to begin learning Python."
   ]
  },
  {
   "cell_type": "code",
   "execution_count": null,
   "metadata": {},
   "outputs": [],
   "source": []
  }
 ],
 "metadata": {
  "kernelspec": {
   "display_name": "Python 2",
   "language": "python",
   "name": "python2"
  },
  "language_info": {
   "codemirror_mode": {
    "name": "ipython",
    "version": 2
   },
   "file_extension": ".py",
   "mimetype": "text/x-python",
   "name": "python",
   "nbconvert_exporter": "python",
   "pygments_lexer": "ipython2",
   "version": "2.7.14"
  }
 },
 "nbformat": 4,
 "nbformat_minor": 2
}
