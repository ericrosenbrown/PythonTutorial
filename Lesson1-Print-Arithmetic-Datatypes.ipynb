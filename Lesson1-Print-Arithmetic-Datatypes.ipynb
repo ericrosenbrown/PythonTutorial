{
 "cells": [
  {
   "cell_type": "markdown",
   "metadata": {},
   "source": [
    "# Lesson 1. Printing, Arithmetic, and Data Types\n",
    "\n",
    "In this tutorial, you will learn how to do the most basic operations in Python: printing and arithmetic.\n",
    "\n",
    "------"
   ]
  },
  {
   "cell_type": "markdown",
   "metadata": {},
   "source": [
    "## Section 0. Printing\n",
    "\n",
    "The most basic thing you can do in Python is to `print`: that is, to write text or numbers to the output. See below (Remember to press SHIFT + ENTER to run code):"
   ]
  },
  {
   "cell_type": "code",
   "execution_count": 13,
   "metadata": {},
   "outputs": [
    {
     "name": "stdout",
     "output_type": "stream",
     "text": [
      "Hello world!\n"
     ]
    }
   ],
   "source": [
    "print \"Hello world!\""
   ]
  },
  {
   "cell_type": "markdown",
   "metadata": {},
   "source": [
    "There are two components to this line of code:\n",
    "- The first is the `print` statement, which commands the computer to print.\n",
    "- The second is a piece of text, that is surrounded by quotation marks. In this case, it's the `\"Hello world!\"`.\n",
    "\n",
    "In computer science, we call these pieces of text as **strings**. A computer knows that if a piece of text is surrounded by quotation marks, it must be a string.\n",
    "\n",
    "In addition to strings, you can also print numbers:"
   ]
  },
  {
   "cell_type": "code",
   "execution_count": 14,
   "metadata": {
    "scrolled": true
   },
   "outputs": [
    {
     "name": "stdout",
     "output_type": "stream",
     "text": [
      "3\n",
      "-5.012\n"
     ]
    }
   ],
   "source": [
    "print 3\n",
    "\n",
    "print -5.012"
   ]
  },
  {
   "cell_type": "markdown",
   "metadata": {},
   "source": [
    "Try experimenting below, so you know 100% how to use the print statement (as we're going to use print for the rest of this tutorial!)"
   ]
  },
  {
   "cell_type": "code",
   "execution_count": null,
   "metadata": {},
   "outputs": [],
   "source": [
    "# Sandbox\n",
    "\n"
   ]
  },
  {
   "cell_type": "markdown",
   "metadata": {},
   "source": [
    "**Section 1.1. Arithmetic**\n",
    "\n",
    "Now we can actually get started. To begin, a computer can do simple arithmetic, just like your calculator can. In fact, you can think of your computer as a calculator on steroids. Try basic addition, subtraction, multiplication, and division below."
   ]
  },
  {
   "cell_type": "code",
   "execution_count": 7,
   "metadata": {},
   "outputs": [
    {
     "name": "stdout",
     "output_type": "stream",
     "text": [
      "2\n",
      "7\n",
      "12\n",
      "4\n"
     ]
    }
   ],
   "source": [
    "# Addition\n",
    "print 1 + 1\n",
    "\n",
    "# Subtraction\n",
    "print 10 - 3\n",
    "\n",
    "# Multiplication\n",
    "print 3 * 4\n",
    "\n",
    "# Division\n",
    "print 12 / 3\n",
    "\n",
    "# Do your own arithmetic below.\n",
    "\n",
    "\n",
    "\n",
    "\n"
   ]
  },
  {
   "cell_type": "markdown",
   "metadata": {},
   "source": [
    "You can also do negative numbers, and decimals, if you want:"
   ]
  },
  {
   "cell_type": "code",
   "execution_count": 8,
   "metadata": {},
   "outputs": [
    {
     "name": "stdout",
     "output_type": "stream",
     "text": [
      "-97\n",
      "1.01958548306e+11\n"
     ]
    }
   ],
   "source": [
    "# Negative numbers\n",
    "\n",
    "print 3 - 100\n",
    "\n",
    "# Decimals\n",
    "\n",
    "print 2038391.11111 * 50019.12918"
   ]
  },
  {
   "cell_type": "markdown",
   "metadata": {},
   "source": [
    "In Python, there are essentially two types of numbers:\n",
    "- **Integers**: Basically integers (1, 2, 3, 0, -2, -153, etc.)\n",
    "- **Floats**: Decimal numbers (1.3, -55.23, 0.0001, etc.)\n",
    "\n",
    "One quirk with Python 2.7 is that if you try to divide an integer with an integer, you get an integer rounded down. See below:"
   ]
  },
  {
   "cell_type": "code",
   "execution_count": 10,
   "metadata": {},
   "outputs": [
    {
     "name": "stdout",
     "output_type": "stream",
     "text": [
      "4\n"
     ]
    }
   ],
   "source": [
    "print 18 / 4"
   ]
  },
  {
   "cell_type": "markdown",
   "metadata": {},
   "source": [
    "But 18 divided by 4 is 4.5, not 4! To get the correct answer, you have to include a float in the division. Any of the below will work:"
   ]
  },
  {
   "cell_type": "code",
   "execution_count": 12,
   "metadata": {},
   "outputs": [
    {
     "name": "stdout",
     "output_type": "stream",
     "text": [
      "4.5\n",
      "4.5\n",
      "4.5\n",
      "4.5\n"
     ]
    }
   ],
   "source": [
    "print 18 / 4.0\n",
    "\n",
    "print 18.0 / 4\n",
    "\n",
    "print 18.0 / 4.0\n",
    "\n",
    "print 18.00000 / 4.000000"
   ]
  },
  {
   "cell_type": "markdown",
   "metadata": {},
   "source": [
    "**Section 1.2.** Arithmetics with strings\n",
    "\n",
    "Here's something you can do in your computer that you can't do in your calculator: Add strings! See below:"
   ]
  },
  {
   "cell_type": "code",
   "execution_count": 15,
   "metadata": {},
   "outputs": [
    {
     "name": "stdout",
     "output_type": "stream",
     "text": [
      "Hello world!\n"
     ]
    }
   ],
   "source": [
    "print \"Hello\" + \" \" + \"world!\""
   ]
  },
  {
   "cell_type": "markdown",
   "metadata": {},
   "source": [
    "You can concatenate multiple strings this way. Unfortunately, you can't subtract, multiply, or divide strings, because what does it even mean to subtract / multiply / divide two pieces of text together?"
   ]
  },
  {
   "cell_type": "markdown",
   "metadata": {},
   "source": [
    "**Section 2.** Data Types\n",
    "\n",
    "You can add numbers and numbers together, and strings and strings together, but what about strings and numbers (or vice versa)?"
   ]
  },
  {
   "cell_type": "code",
   "execution_count": 17,
   "metadata": {},
   "outputs": [
    {
     "ename": "TypeError",
     "evalue": "cannot concatenate 'str' and 'int' objects",
     "output_type": "error",
     "traceback": [
      "\u001b[0;31m\u001b[0m",
      "\u001b[0;31mTypeError\u001b[0mTraceback (most recent call last)",
      "\u001b[0;32m<ipython-input-17-b9439e44a503>\u001b[0m in \u001b[0;36m<module>\u001b[0;34m()\u001b[0m\n\u001b[0;32m----> 1\u001b[0;31m \u001b[0;32mprint\u001b[0m \u001b[0;34m\"1 plus 1 is: \"\u001b[0m \u001b[0;34m+\u001b[0m \u001b[0;36m2\u001b[0m\u001b[0;34m\u001b[0m\u001b[0m\n\u001b[0m",
      "\u001b[0;31mTypeError\u001b[0m: cannot concatenate 'str' and 'int' objects"
     ]
    }
   ],
   "source": [
    "print \"1\" + 2"
   ]
  },
  {
   "cell_type": "markdown",
   "metadata": {},
   "source": [
    "It throws an error, but why? The answer is **data types**. All data in Python are divided by types. You already know three: strings, integers, and floats.\n",
    "\n",
    "**Generally speaking, you cannot operate on two pieces of data if the types are different.** In fact, that's what the error exactly says: `TypeError` means that there is an error related to data types, and `Cannot concatenate 'str' and 'int' objects` literally means it cannot concatenate 'str' (strings) and 'int' (integers).\n",
    "\n",
    "Make sure that you know the difference between `\"1\"` and `1`! There are two ways you can go about fixing this. One is to remove the quotation marks in `\"1\"`, which will make it an integer:"
   ]
  },
  {
   "cell_type": "code",
   "execution_count": 18,
   "metadata": {},
   "outputs": [
    {
     "name": "stdout",
     "output_type": "stream",
     "text": [
      "3\n"
     ]
    }
   ],
   "source": [
    "print 1 + 2"
   ]
  },
  {
   "cell_type": "markdown",
   "metadata": {},
   "source": [
    "Or, you can add quotation marks to `2`, which will make it a string. Note, however, that due to the nature of adding strings, it will return `12`!"
   ]
  },
  {
   "cell_type": "code",
   "execution_count": 19,
   "metadata": {},
   "outputs": [
    {
     "name": "stdout",
     "output_type": "stream",
     "text": [
      "12\n"
     ]
    }
   ],
   "source": [
    "print \"1\" + \"2\""
   ]
  },
  {
   "cell_type": "markdown",
   "metadata": {},
   "source": [
    "-----\n",
    "\n",
    "That concludes Lesson 1, the very basic stuff you can do with Python! So far you've learned:\n",
    "\n",
    "- How to print\n",
    "- How to use Python like a calculator\n",
    "- The existence of data types\n",
    "\n",
    "We'll go over applications of these information in future lessons."
   ]
  },
  {
   "cell_type": "code",
   "execution_count": null,
   "metadata": {},
   "outputs": [],
   "source": []
  }
 ],
 "metadata": {
  "kernelspec": {
   "display_name": "Python 2",
   "language": "python",
   "name": "python2"
  },
  "language_info": {
   "codemirror_mode": {
    "name": "ipython",
    "version": 2
   },
   "file_extension": ".py",
   "mimetype": "text/x-python",
   "name": "python",
   "nbconvert_exporter": "python",
   "pygments_lexer": "ipython2",
   "version": "2.7.14"
  }
 },
 "nbformat": 4,
 "nbformat_minor": 2
}
