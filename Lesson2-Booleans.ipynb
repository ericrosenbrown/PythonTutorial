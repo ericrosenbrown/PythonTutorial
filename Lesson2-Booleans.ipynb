{
 "cells": [
  {
   "cell_type": "markdown",
   "metadata": {},
   "source": [
    "# Lesson 2. Boolean logic\n",
    "\n",
    "In this tutorial, you will learn another data type (booleans), and its related logic.\n",
    "\n",
    "------"
   ]
  },
  {
   "cell_type": "markdown",
   "metadata": {},
   "source": [
    "## Section 1. Basic Boolean Usage\n",
    "\n",
    "Let's begin by introducing the **boolean** data type. This data type has only two values: `True` and `False`. "
   ]
  },
  {
   "cell_type": "code",
   "execution_count": 1,
   "metadata": {},
   "outputs": [
    {
     "name": "stdout",
     "output_type": "stream",
     "text": [
      "True\n",
      "False\n"
     ]
    }
   ],
   "source": [
    "print True\n",
    "\n",
    "print False"
   ]
  },
  {
   "cell_type": "markdown",
   "metadata": {},
   "source": [
    "Note that you have to capitalise the terms `True` and `False`! Typing `true` or `false` will result in an error.\n",
    "\n",
    "You will encounter booleans in many situations. The most basic situation is in using equality statements. See below:"
   ]
  },
  {
   "cell_type": "code",
   "execution_count": 3,
   "metadata": {},
   "outputs": [
    {
     "name": "stdout",
     "output_type": "stream",
     "text": [
      "True\n",
      "False\n"
     ]
    }
   ],
   "source": [
    "# Equals\n",
    "\n",
    "print 3 == 3\n",
    "\n",
    "# Not equals\n",
    "\n",
    "print 3 != 3"
   ]
  },
  {
   "cell_type": "markdown",
   "metadata": {},
   "source": [
    "In Python, we use the `==` operator much in the same was as addition / subtraction / multiplication / division. If the left side and the right side is equal, it will return the boolean `True`; otherwise, it will return the boolean `False`. Notice that we use **2** `=` symbols as the equality operator!\n",
    "\n",
    "We can also use the `!=` operator to test inequality. Like the equality operator, it works like the arithmetic operators, and will return `True` if the left and right side are not equal.\n",
    "\n",
    "We can use this for strings and booleans too:"
   ]
  },
  {
   "cell_type": "code",
   "execution_count": 5,
   "metadata": {},
   "outputs": [
    {
     "name": "stdout",
     "output_type": "stream",
     "text": [
      "True\n",
      "False\n",
      "False\n",
      "True\n",
      "False\n"
     ]
    }
   ],
   "source": [
    "# Equality for strings:\n",
    "\n",
    "print \"Alice\" == \"Alice\"\n",
    "\n",
    "print \"Bob\" == \"Carol\"\n",
    "\n",
    "print \"Daniel\" != \"Daniel\"\n",
    "\n",
    "# Equality for booleans\n",
    "\n",
    "print True == True\n",
    "\n",
    "print False != False"
   ]
  },
  {
   "cell_type": "markdown",
   "metadata": {},
   "source": [
    "There also exist comparison operators to test if the left side is greater than, or less than, the right side:"
   ]
  },
  {
   "cell_type": "code",
   "execution_count": 9,
   "metadata": {},
   "outputs": [
    {
     "name": "stdout",
     "output_type": "stream",
     "text": [
      "True\n",
      "False\n",
      "True\n",
      "True\n"
     ]
    }
   ],
   "source": [
    "print 3 > 2\n",
    "\n",
    "print 1.5 < -10000000\n",
    "\n",
    "print 5 >= 5\n",
    "\n",
    "print 3 <= 3.00001"
   ]
  },
  {
   "cell_type": "markdown",
   "metadata": {},
   "source": [
    "Let's have a look at what these operators are:\n",
    "- The `>` operator will return `True` if the left side is **greater than** the right side.\n",
    "- The `<` operator will return `True` if the left side is **less than** the right side.\n",
    "- The `>=` operator will return `True` if the left side is **greater than or equal to** the right side.\n",
    "- The `<=` operator will return `True` if the left side is **less than or equal to** the right side."
   ]
  },
  {
   "cell_type": "markdown",
   "metadata": {},
   "source": [
    "Try making your own equality and comparison statements below, for practice:"
   ]
  },
  {
   "cell_type": "code",
   "execution_count": 10,
   "metadata": {},
   "outputs": [],
   "source": [
    "# Sandbox\n",
    "\n",
    "\n",
    "\n",
    "\n",
    "\n"
   ]
  },
  {
   "cell_type": "markdown",
   "metadata": {},
   "source": [
    "## Section 2. Boolean Logic\n",
    "\n",
    "Boolean logic is essentially a form of algebra where everything is either a `True` or a `False`. It's an important concept in computer science, and is a necessary component in more advanced programming concepts.\n",
    "\n",
    "Basic boolean logic consists of three operators: **and**, **or**, and **not**. \n",
    "\n",
    "**and** and **or** are used like the equality and arithmetic operators (e.g. `print ____ and _____`).\n",
    "- **and** will return `True` if **BOTH** the left and right side is `True`.\n",
    "- **or** will return `True` if **EITHER** the left and right side is `True`.\n",
    "\n",
    "**not** is used like a negative operator: you only need something on the right side (e.g. `print not ___`).\n",
    "- `not True` will return False.\n",
    "- `not False` will return True.\n",
    "\n",
    "Below are some examples. Try making a `True` and `False` statement for all and, or, and not statements. Make sure you know how they work!"
   ]
  },
  {
   "cell_type": "code",
   "execution_count": 12,
   "metadata": {},
   "outputs": [
    {
     "name": "stdout",
     "output_type": "stream",
     "text": [
      "False\n",
      "True\n",
      "True\n"
     ]
    }
   ],
   "source": [
    "# Examples\n",
    "\n",
    "print True and False\n",
    "\n",
    "print True or True\n",
    "\n",
    "print not False\n",
    "\n",
    "# Now make your own...\n",
    "\n",
    "\n",
    "\n",
    "\n"
   ]
  },
  {
   "cell_type": "markdown",
   "metadata": {},
   "source": [
    "## Section 3. Putting them together\n",
    "\n",
    "We can actually combine boolean operators and equality operators together to make complex boolean statements. See below:"
   ]
  },
  {
   "cell_type": "code",
   "execution_count": 13,
   "metadata": {},
   "outputs": [
    {
     "name": "stdout",
     "output_type": "stream",
     "text": [
      "True\n"
     ]
    }
   ],
   "source": [
    "print 3 > 1 and 50 == 50"
   ]
  },
  {
   "cell_type": "markdown",
   "metadata": {},
   "source": [
    "What's happening here? Pretty simple:\n",
    "- `3 > 1` evaluates to `True`\n",
    "- `50 == 50` evaluates to `True`\n",
    "- Therefore `3 > 1 and 50 == 50` is the same as `True and True`, which evalues to `True`.\n",
    "\n",
    "You can effectively chain multiple boolean statements together to create complex boolean statements. See the statements below, and figure out why they evaluate to `True` or `False`. After that, make some of your own."
   ]
  },
  {
   "cell_type": "code",
   "execution_count": 17,
   "metadata": {},
   "outputs": [
    {
     "name": "stdout",
     "output_type": "stream",
     "text": [
      "True\n",
      "False\n",
      "True\n"
     ]
    }
   ],
   "source": [
    "# Some examples...\n",
    "\n",
    "print 1 >= 1 and (3 < 3 or 5 != 10)\n",
    "\n",
    "print not 1 == 1\n",
    "\n",
    "print \"1\" == 1 or not \"2\" == 2\n",
    "\n",
    "# Make your own...\n",
    "\n",
    "\n",
    "\n",
    "\n",
    "\n"
   ]
  },
  {
   "cell_type": "markdown",
   "metadata": {},
   "source": [
    "-----\n",
    "\n",
    "Great work! That concludes lesson 2. So far you've learned:\n",
    "- A new data type (booleans)\n",
    "- Equality and comparison operators (==, !=, >, <, >=, <=)\n",
    "- Boolean operators (and, or, not)\n",
    "- How to combine the above operators to make boolean statements\n",
    "\n",
    "These will become handy in the near future. "
   ]
  },
  {
   "cell_type": "markdown",
   "metadata": {},
   "source": [
    "-----\n",
    "\n",
    "## Tasks\n",
    "\n",
    "- Under what circumstances does `and` return `False`? How about `or`?\n",
    "\n",
    "- You can actually use comparison operators with strings. Try `print \"A\" > \"B\"`, and try comparing some other strings; they'll return `True` or `False` instead of an error. Why is this? What are we comparing here?\n"
   ]
  },
  {
   "cell_type": "code",
   "execution_count": 34,
   "metadata": {},
   "outputs": [],
   "source": [
    "# Your code here...\n",
    "\n",
    "\n",
    "\n",
    "\n",
    "\n"
   ]
  }
 ],
 "metadata": {
  "kernelspec": {
   "display_name": "Python 2",
   "language": "python",
   "name": "python2"
  },
  "language_info": {
   "codemirror_mode": {
    "name": "ipython",
    "version": 2
   },
   "file_extension": ".py",
   "mimetype": "text/x-python",
   "name": "python",
   "nbconvert_exporter": "python",
   "pygments_lexer": "ipython2",
   "version": "2.7.14"
  }
 },
 "nbformat": 4,
 "nbformat_minor": 2
}
