{
 "cells": [
  {
   "cell_type": "markdown",
   "metadata": {},
   "source": [
    "# Lesson 3. Variables and Functions\n",
    "\n",
    "In this tutorial, you will learn (as the title suggests ) variables and functions.\n",
    "\n",
    "------"
   ]
  },
  {
   "cell_type": "markdown",
   "metadata": {},
   "source": [
    "## Section 1.1. Introduction to Variables\n",
    "\n",
    "Formally, a variable is a **storage location** that has three components:\n",
    "- An **identifier** (what is it called?)\n",
    "- A **memory address** (where is it stored?)\n",
    "- A **value** (what does it store?)\n",
    "\n",
    "Informally, you can think of it as algebraic variables, just like you learned in maths. Have a look below:"
   ]
  },
  {
   "cell_type": "code",
   "execution_count": 3,
   "metadata": {},
   "outputs": [
    {
     "name": "stdout",
     "output_type": "stream",
     "text": [
      "5\n",
      "Hello\n"
     ]
    }
   ],
   "source": [
    "x = 5\n",
    "y = \"Hello\"\n",
    "\n",
    "print x\n",
    "print y"
   ]
  },
  {
   "cell_type": "markdown",
   "metadata": {},
   "source": [
    "Here, `x` and `y` are variables. The `=` operator will assign the right hand side value to the left hand side. When you print `x`, it will print the value of `x`, which is 5.\n",
    "\n",
    "Just like in algebra, you can use operators on them:"
   ]
  },
  {
   "cell_type": "code",
   "execution_count": 8,
   "metadata": {},
   "outputs": [
    {
     "name": "stdout",
     "output_type": "stream",
     "text": [
      "104\n",
      "-282\n"
     ]
    }
   ],
   "source": [
    "x = 5\n",
    "y = 99\n",
    "\n",
    "print x + y\n",
    "print (x - y) * 3"
   ]
  },
  {
   "cell_type": "markdown",
   "metadata": {},
   "source": [
    "There are some things you need to be careful when making variables:\n",
    "- Notice that variables do not have quotation marks attached to them. That is how the program determines whether something is a variable (if it has no quotation marks), or a string (if it does has quotation marks).\n",
    "- Variables must not begin with a number (e.g. `1value` is invalid). A variable can have numbers, though, just not at the front. (e.g. `value1` will work).\n",
    "- When using the `=` operator, the variable MUST be on the left hand side, and the value to assign MUST be on the right hand side. \n",
    "- You have to define a function, before you start using them.\n",
    "\n",
    "The statements below will not work. Try to figure out why:"
   ]
  },
  {
   "cell_type": "code",
   "execution_count": 9,
   "metadata": {},
   "outputs": [
    {
     "ename": "SyntaxError",
     "evalue": "can't assign to literal (<ipython-input-9-78650bb89dbf>, line 1)",
     "output_type": "error",
     "traceback": [
      "\u001b[0;36m  File \u001b[0;32m\"<ipython-input-9-78650bb89dbf>\"\u001b[0;36m, line \u001b[0;32m1\u001b[0m\n\u001b[0;31m    \"aaa\" = 5\u001b[0m\n\u001b[0;31mSyntaxError\u001b[0m\u001b[0;31m:\u001b[0m can't assign to literal\n"
     ]
    }
   ],
   "source": [
    "\"aaa\" = 5"
   ]
  },
  {
   "cell_type": "code",
   "execution_count": 12,
   "metadata": {},
   "outputs": [
    {
     "ename": "SyntaxError",
     "evalue": "can't assign to literal (<ipython-input-12-78901fec1980>, line 1)",
     "output_type": "error",
     "traceback": [
      "\u001b[0;36m  File \u001b[0;32m\"<ipython-input-12-78901fec1980>\"\u001b[0;36m, line \u001b[0;32m1\u001b[0m\n\u001b[0;31m    123 = \"Hello!\"\u001b[0m\n\u001b[0;31mSyntaxError\u001b[0m\u001b[0;31m:\u001b[0m can't assign to literal\n"
     ]
    }
   ],
   "source": [
    "123 = \"Hello!\""
   ]
  },
  {
   "cell_type": "code",
   "execution_count": 14,
   "metadata": {},
   "outputs": [
    {
     "ename": "SyntaxError",
     "evalue": "can't assign to literal (<ipython-input-14-7f1a2e2f9b1f>, line 1)",
     "output_type": "error",
     "traceback": [
      "\u001b[0;36m  File \u001b[0;32m\"<ipython-input-14-7f1a2e2f9b1f>\"\u001b[0;36m, line \u001b[0;32m1\u001b[0m\n\u001b[0;31m    5 = x\u001b[0m\n\u001b[0;31mSyntaxError\u001b[0m\u001b[0;31m:\u001b[0m can't assign to literal\n"
     ]
    }
   ],
   "source": [
    "5 = x"
   ]
  },
  {
   "cell_type": "code",
   "execution_count": 23,
   "metadata": {},
   "outputs": [
    {
     "ename": "NameError",
     "evalue": "name 'z' is not defined",
     "output_type": "error",
     "traceback": [
      "\u001b[0;31m\u001b[0m",
      "\u001b[0;31mNameError\u001b[0mTraceback (most recent call last)",
      "\u001b[0;32m<ipython-input-23-52f33b8c85c1>\u001b[0m in \u001b[0;36m<module>\u001b[0;34m()\u001b[0m\n\u001b[0;32m----> 1\u001b[0;31m \u001b[0;32mprint\u001b[0m \u001b[0mz\u001b[0m \u001b[0;34m+\u001b[0m \u001b[0;36m1\u001b[0m\u001b[0;34m\u001b[0m\u001b[0m\n\u001b[0m",
      "\u001b[0;31mNameError\u001b[0m: name 'z' is not defined"
     ]
    }
   ],
   "source": [
    "print z + 1"
   ]
  },
  {
   "cell_type": "markdown",
   "metadata": {},
   "source": [
    "## Section 1.2. Slightly more complicated usage\n",
    "\n",
    "You can \"overwrite\" a variable's value by using the `=` operator again. See below:"
   ]
  },
  {
   "cell_type": "code",
   "execution_count": 18,
   "metadata": {},
   "outputs": [
    {
     "name": "stdout",
     "output_type": "stream",
     "text": [
      "6\n",
      "11.2\n",
      "101\n"
     ]
    }
   ],
   "source": [
    "x = 5\n",
    "y = 1\n",
    "print x + y\n",
    "x = 10.2\n",
    "print x + y\n",
    "x = 99 + 1\n",
    "print x + y"
   ]
  },
  {
   "cell_type": "markdown",
   "metadata": {},
   "source": [
    "This becomes a little more tricky to understand when you assign a variable to a variable. Try to figure out what's going on below:"
   ]
  },
  {
   "cell_type": "code",
   "execution_count": 19,
   "metadata": {},
   "outputs": [
    {
     "name": "stdout",
     "output_type": "stream",
     "text": [
      "Hello\n",
      "Goodbye\n",
      "Goodbye\n",
      "Goodbye\n"
     ]
    }
   ],
   "source": [
    "x = \"Hello\"\n",
    "y = \"Goodbye\"\n",
    "print x\n",
    "print y\n",
    "x = y\n",
    "print x\n",
    "print y"
   ]
  },
  {
   "cell_type": "markdown",
   "metadata": {},
   "source": [
    "Remember that the `=` operator simply assigns the value of the right hand side to the variable on the left hand side. So when we do `x = y`, we assign the value of the right hand side (`\"Goodbye\"`) to the variable on the left hand side (`x`). Thus, the value of `x` now becomes `\"Goodbye\"`. The value of `y` does not change.\n",
    "\n",
    "Now try to figure out what's going on below:"
   ]
  },
  {
   "cell_type": "code",
   "execution_count": 20,
   "metadata": {},
   "outputs": [
    {
     "name": "stdout",
     "output_type": "stream",
     "text": [
      "5\n",
      "6\n"
     ]
    }
   ],
   "source": [
    "x = 5\n",
    "print x\n",
    "x = x + 1\n",
    "print x"
   ]
  },
  {
   "cell_type": "markdown",
   "metadata": {},
   "source": [
    "x = x + 1? That makes no mathematical sense! What's going on?\n",
    "\n",
    "Again: remember that the `=` operator simply assigns the value of the right hand side to the variable on the left hand side. The right hand side is `x + 1`, which is `5 + 1`, which is `6`. This value is then passed onto the variable on the left hand side, which is `x`. Therefore, `x` now becomes 6.\n",
    "\n",
    "Make sure you truly understand what is going on here. Have a look at the variables below, and figure out what their values are. If you are still confused, try playing around with variables below."
   ]
  },
  {
   "cell_type": "code",
   "execution_count": null,
   "metadata": {},
   "outputs": [],
   "source": [
    "# Examples...\n",
    "\n",
    "x = 5\n",
    "y = 10\n",
    "z = 99\n",
    "name = \"Andrew\"\n",
    "language = \"Python\"\n",
    "\n",
    "print x\n",
    "print y\n",
    "print z\n",
    "\n",
    "x = x * 5    # What is the value of x here?\n",
    "y = x / 2.0  # What is the value of y here?\n",
    "z = y        # What is the value of z here?\n",
    "\n",
    "sentence = \"My name is \" + name + \" and I like \" + language    # When you print sentence, what is the output?\n",
    "\n",
    "# Make your own variables here...\n",
    "\n",
    "\n",
    "\n",
    "\n",
    "\n"
   ]
  },
  {
   "cell_type": "markdown",
   "metadata": {},
   "source": [
    "## Section 2. Introduction to Functions\n",
    "\n",
    "Now that you know what variables are, you are now equipped to learn about functions. See below for an example function:"
   ]
  },
  {
   "cell_type": "code",
   "execution_count": 21,
   "metadata": {},
   "outputs": [
    {
     "name": "stdout",
     "output_type": "stream",
     "text": [
      "8\n",
      "20\n"
     ]
    }
   ],
   "source": [
    "def f(x):\n",
    "    return x * 2\n",
    "\n",
    "print f(4)\n",
    "print f(10)"
   ]
  },
  {
   "cell_type": "markdown",
   "metadata": {},
   "source": [
    "Let's see what is going on here. Start with line 1:\n",
    "- The key phrase `def` tells the program that you are going to **define** a function.\n",
    "- The second part, `f(x)`, is the function much like you see in maths. `f` is the **function name**, and `x` is the **input variable**. \n",
    "    - Input variables are variables that serve as the **input** for your function. For instance, when you do `f(4)`, then within the function, the variable `x` will be assigned the value of `4`. Unlike normal variables, you do not have to create the variable in advance. You just have to define the input variable when defining the function (in line 1).\n",
    "\n",
    "Now onto line 2:\n",
    "- All lines immediately below the function definition (the line with the `def`), and with **spaces** on front of the line, tells the program that the line is part of the function. This is why line 2 is part of the function, but line 4 and 5 is NOT part of the function.\n",
    "- When you call a function, all lines of code that are part of the function will be run. In the case of `f(x)`, the only like of code that is part of the function is line 2, so line 2 will be called when `f(x)` is used.\n",
    "- The key phrase `return` tells the program what the **output** of the function is. In this case, the output is x * 2: that is, 2 times the input.\n",
    "\n",
    "So in total, this is what happens when `f(4)` is run:\n",
    "- The input variable `x` is assigned a value of `4`.\n",
    "- All lines associated with the function (in this case, only line 2) is run.\n",
    "- The output `x * 2` is returned from the function. Since `x` is `4`, the output is then `8`.\n",
    "\n",
    "Let's see some more functions. Try and figure out what these do, and try using them yourself:"
   ]
  },
  {
   "cell_type": "code",
   "execution_count": 26,
   "metadata": {},
   "outputs": [],
   "source": [
    "# What do these functions do?\n",
    "\n",
    "def f(x):\n",
    "    return 5\n",
    "\n",
    "def g(x):\n",
    "    return x + 4\n",
    "\n",
    "def h(x):\n",
    "    return g(x) * 10\n",
    "\n",
    "# Try using them yourself here...\n",
    "\n",
    "\n",
    "\n",
    "\n",
    "\n",
    "\n"
   ]
  },
  {
   "cell_type": "markdown",
   "metadata": {},
   "source": [
    "Although functions in Python are very similar to functions in maths, there are some differences. For instance, you can name your functions whatever you want; it doesn't have to be a single letter. The function below will work just fine:"
   ]
  },
  {
   "cell_type": "code",
   "execution_count": 27,
   "metadata": {},
   "outputs": [
    {
     "name": "stdout",
     "output_type": "stream",
     "text": [
      "32.7\n"
     ]
    }
   ],
   "source": [
    "def triple_my_number(weird_number):\n",
    "    return weird_number * 3\n",
    "\n",
    "print triple_my_number(10.9)"
   ]
  },
  {
   "cell_type": "markdown",
   "metadata": {},
   "source": [
    "You can also have more than one input variable. Two, three, hundred, the sky is the limit. You can also have no input variables at all, if you want. Here is an example function below:"
   ]
  },
  {
   "cell_type": "code",
   "execution_count": 29,
   "metadata": {},
   "outputs": [
    {
     "name": "stdout",
     "output_type": "stream",
     "text": [
      "7.5\n",
      "5\n"
     ]
    }
   ],
   "source": [
    "def area_of_triangle(width, height):\n",
    "    return 0.5 * width * height\n",
    "\n",
    "print area_of_triangle(3, 5)\n",
    "\n",
    "def no_input_variables():\n",
    "    return 5\n",
    "\n",
    "print no_input_variables()"
   ]
  },
  {
   "cell_type": "markdown",
   "metadata": {},
   "source": [
    "You can also have multiple lines of code within your function. You can even include print statements within your function! Here's an example:"
   ]
  },
  {
   "cell_type": "code",
   "execution_count": 33,
   "metadata": {},
   "outputs": [
    {
     "name": "stdout",
     "output_type": "stream",
     "text": [
      "I do not know the way\n",
      "False\n"
     ]
    }
   ],
   "source": [
    "def do_you_know_the_way():\n",
    "    print \"I do not know the way\"\n",
    "    x = False and True\n",
    "    y = 999999\n",
    "    return x\n",
    "\n",
    "print do_you_know_the_way()"
   ]
  },
  {
   "cell_type": "markdown",
   "metadata": {},
   "source": [
    "Note that when you print a function, it will print the **output** of the function. In the above function, the output is `False`, so printing the function will print `False`. But before the output is returned in the function, a print statement is called, so it will print that sentence first before printing the output of the function.\n",
    "\n",
    "Try making your own functions below. Make sure that you understand exactly how functions work."
   ]
  },
  {
   "cell_type": "code",
   "execution_count": null,
   "metadata": {},
   "outputs": [],
   "source": [
    "# Make your own functions below...\n",
    "\n",
    "\n",
    "\n",
    "\n",
    "\n",
    "\n",
    "\n"
   ]
  },
  {
   "cell_type": "markdown",
   "metadata": {},
   "source": [
    "## Section 3. Libraries\n",
    "\n",
    "Other people have already made a lot of functions for you, and they are included in Python through **libraries**. To use a library, you must use the **import** statement. One example in Python is the math library:"
   ]
  },
  {
   "cell_type": "code",
   "execution_count": 35,
   "metadata": {},
   "outputs": [],
   "source": [
    "import math"
   ]
  },
  {
   "cell_type": "markdown",
   "metadata": {},
   "source": [
    "The `import` statement tells the program that you will use a library, and `math` is the name of the library (as the name implies, it includes a lot of mathematical functions).\n",
    "\n",
    "To use a library function, you call it like below. Essentially, it's **library_name**.**function_name()**."
   ]
  },
  {
   "cell_type": "code",
   "execution_count": 37,
   "metadata": {},
   "outputs": [
    {
     "name": "stdout",
     "output_type": "stream",
     "text": [
      "4.0\n"
     ]
    }
   ],
   "source": [
    "print math.sqrt(16)"
   ]
  },
  {
   "cell_type": "markdown",
   "metadata": {},
   "source": [
    "To see what functions the math library has, you can look at the Python manual below.\n",
    "\n",
    "https://docs.python.org/2/library/math.html\n",
    "\n",
    "This library will come handy when you do the tasks at the end."
   ]
  },
  {
   "cell_type": "markdown",
   "metadata": {},
   "source": [
    "-----\n",
    "\n",
    "That was a lot of stuff. That concludes lesson 3. So far you've learned:\n",
    "- What variables are\n",
    "- How the `=` operator works\n",
    "- How to define a function\n",
    "- The difference between functions in Python and functions in maths.\n",
    "\n",
    "Why do we want to use functions in the first place? The answer is **convenience**. Notice that when you call a function, you are essentially calling **multiple lines of code**. Thus, instead of having to copy and paste the same code a 100 times, you can instead call a function a 100 times, making life much easier."
   ]
  },
  {
   "cell_type": "markdown",
   "metadata": {},
   "source": [
    "-----\n",
    "\n",
    "## Tasks\n",
    "\n",
    "- Create a function that calculates the Pythagorean Theorem. Given two input variables (the two sides of the triangle), use the Pythagorean Theorem to output the hypotenuse.\n",
    "- Functions don't only have to deal with numbers. Create a greeting function that takes in your name (a string) as input, and make it output a \"greeting\" string. (e.g. \"Hello, my name is Bob!\")"
   ]
  },
  {
   "cell_type": "code",
   "execution_count": null,
   "metadata": {},
   "outputs": [],
   "source": [
    "# Your code here\n",
    "\n",
    "\n",
    "\n",
    "\n",
    "\n",
    "\n",
    "\n"
   ]
  }
 ],
 "metadata": {
  "kernelspec": {
   "display_name": "Python 2",
   "language": "python",
   "name": "python2"
  },
  "language_info": {
   "codemirror_mode": {
    "name": "ipython",
    "version": 2
   },
   "file_extension": ".py",
   "mimetype": "text/x-python",
   "name": "python",
   "nbconvert_exporter": "python",
   "pygments_lexer": "ipython2",
   "version": "2.7.14"
  }
 },
 "nbformat": 4,
 "nbformat_minor": 2
}
