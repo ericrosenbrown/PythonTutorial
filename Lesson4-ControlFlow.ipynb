{
 "cells": [
  {
   "cell_type": "markdown",
   "metadata": {},
   "source": [
    "# Lesson 4. Control Flow\n",
    "\n",
    "Remember boolean variables? Now we're going to make good use of them through `if` statements. \n",
    "\n",
    "This is a short lesson, but it's quite important!"
   ]
  },
  {
   "cell_type": "markdown",
   "metadata": {},
   "source": [
    "## Section 2.1. If Statements\n",
    "\n",
    "Currently, when we run a program, our program runs the first line of code, the second line of code, etc. However, a lot of the time we want to run different pieces of code depending on the situation, instead of running all lines of code at once. This is where **if statements** come in. An `if` statement will run a piece of code when the **condition** it is given returns `True`. Here's two examples of an if statement:"
   ]
  },
  {
   "cell_type": "code",
   "execution_count": 2,
   "metadata": {},
   "outputs": [
    {
     "name": "stdout",
     "output_type": "stream",
     "text": [
      "5 is indeed greater than 3!\n",
      "All if statements were run.\n"
     ]
    }
   ],
   "source": [
    "if 5 > 3:\n",
    "    print \"5 is indeed greater than 3!\"\n",
    "    \n",
    "if 10 > 100:\n",
    "    print \"10 is greater than 100!\"\n",
    "\n",
    "print \"All if statements were run.\""
   ]
  },
  {
   "cell_type": "markdown",
   "metadata": {},
   "source": [
    "Let's see what's happening here. Begin with line 1:\n",
    "- The `if` keyword tells the program that we are making an if statement.\n",
    "- Immediately after the `if` keyword (and space) is a boolean statement. This statement MUST either evaluate to `True` or `False`.\n",
    "- Don't forget the colon at the end of line 1.\n",
    "\n",
    "Now look at line 2:\n",
    "- All lines that are immediately after line 1, and have space in front of them, is part of the if statement. This is why line 2 is part of the if statement, but lines 4 to 7 are not.\n",
    "- All lines that are part of the if statement (in this case, line 2) will run ONLY if the boolean statement in line 1 evaluates to `True`. If the boolean statement is `False`, then the code that is part of the if statement will not run. This is why line 5 does not run in the code (because the boolean statement in line 4 evaluates to `False`)."
   ]
  },
  {
   "cell_type": "markdown",
   "metadata": {},
   "source": [
    "To get accustomed with if statements, here's a simple exercise:\n",
    "\n",
    "**Exercise.** Create two if statements. For the first if statement, make the boolean statement evaluate to `True` so that the code part of the if statement runs. For the second if statement, make the boolean statement evaluate to `False` so that the code part of the if statement does not run."
   ]
  },
  {
   "cell_type": "code",
   "execution_count": 4,
   "metadata": {},
   "outputs": [],
   "source": [
    "# Your code here...\n",
    "\n",
    "\n",
    "\n",
    "\n",
    "\n",
    "\n"
   ]
  },
  {
   "cell_type": "markdown",
   "metadata": {},
   "source": [
    "## Section 2.2. Else Statements\n",
    "\n",
    "You can also attach an **else** to if statements. See below:"
   ]
  },
  {
   "cell_type": "code",
   "execution_count": 6,
   "metadata": {},
   "outputs": [
    {
     "name": "stdout",
     "output_type": "stream",
     "text": [
      "my_variable is a false statement!\n"
     ]
    }
   ],
   "source": [
    "my_variable = 5 > 100\n",
    "\n",
    "if my_variable:\n",
    "    print \"my_variable is a true statement!\"\n",
    "else:\n",
    "    print \"my_variable is a false statement!\""
   ]
  },
  {
   "cell_type": "markdown",
   "metadata": {},
   "source": [
    "As you can see, the lines of code that are part of the else statement is run if `my_variable` evaluates to `False`. If `my_variable` was `True`, it would run the code above the else statement (and below the if statement)."
   ]
  },
  {
   "cell_type": "markdown",
   "metadata": {},
   "source": [
    "How about one more? You can also attach an **elif** to if statements. \"elif\" is simply short for \"else if\". See below for an example:"
   ]
  },
  {
   "cell_type": "code",
   "execution_count": 7,
   "metadata": {},
   "outputs": [
    {
     "name": "stdout",
     "output_type": "stream",
     "text": [
      "The conditional in line 5 is True!\n"
     ]
    }
   ],
   "source": [
    "if 8 == 10:\n",
    "    print \"The conditional in line 1 is True!\"\n",
    "elif 8 == 1:\n",
    "    print \"The conditional in line 3 is True!\"\n",
    "elif 8 == 8:\n",
    "    print \"The conditional in line 5 is True!\"\n",
    "else:\n",
    "    print \"None of the conditionals are True!\""
   ]
  },
  {
   "cell_type": "markdown",
   "metadata": {},
   "source": [
    "As seen in this large if statement:\n",
    "- The if statement first checks **line 1**'s boolean statement and sees if it is True. Since it is False, line 2 does not get run. \n",
    "- The if statement then checks **line 3**'s boolean statement and sees if it is True. Since it is False, line 4 does not get run.\n",
    "- The if statement then checks **line 5**'s boolean statement and sees if it is True. Since it is indeed True, line 5 is run, and the rest of the if statement is skipped.\n",
    "\n",
    "Notice how the else statement does not get run, because at least one of the boolean statements returned `True`. Also notice how the if statement runs from top to bottom: if the boolean statement in line 1 was true, then it would have run line 2 and skipped the rest of the if statement (everything after line 2).\n",
    "\n",
    "-------"
   ]
  },
  {
   "cell_type": "markdown",
   "metadata": {},
   "source": [
    "Combined with functions, you can make pretty neat features. Here are a few exercises below:\n",
    "\n",
    "**Exercise**. Create a function called `absolute`, that takes in a number as an input. If the input is greater than 0, then just output the input as-is. If the input is less than 0, then set the output as the input times -1."
   ]
  },
  {
   "cell_type": "code",
   "execution_count": null,
   "metadata": {},
   "outputs": [],
   "source": [
    "# Your code here...\n",
    "\n",
    "\n",
    "\n",
    "\n",
    "\n"
   ]
  },
  {
   "cell_type": "markdown",
   "metadata": {},
   "source": [
    "**Exercise.** Create a function called `calculate_grade`, that takes in a number as an input. If the number is greater than 90, then output the string \"A\". If the number is between 80 and 90, then output the string \"B\". If the number is between 70 and 80, output the string \"C\". If the number is between 60 and 70, output the string \"D\". If the number is below 70, output the string \"F\". Make sure to use `if`, `elif`, and `else` in your function!"
   ]
  },
  {
   "cell_type": "code",
   "execution_count": 8,
   "metadata": {},
   "outputs": [],
   "source": [
    "# Your code here...\n",
    "\n",
    "\n",
    "\n",
    "\n",
    "\n"
   ]
  },
  {
   "cell_type": "markdown",
   "metadata": {},
   "source": [
    "Great work. So far in lesson 4 you have learned:\n",
    "- What if statements are\n",
    "- How if statements can be complemented with else and elif statements\n",
    "- How if statements can be combined with functions to create more useful functions\n",
    "\n",
    "If statements are an integral part of any code; you'll use it a lot from this point on."
   ]
  },
  {
   "cell_type": "code",
   "execution_count": null,
   "metadata": {},
   "outputs": [],
   "source": []
  }
 ],
 "metadata": {
  "kernelspec": {
   "display_name": "Python 2",
   "language": "python",
   "name": "python2"
  },
  "language_info": {
   "codemirror_mode": {
    "name": "ipython",
    "version": 2
   },
   "file_extension": ".py",
   "mimetype": "text/x-python",
   "name": "python",
   "nbconvert_exporter": "python",
   "pygments_lexer": "ipython2",
   "version": "2.7.14"
  }
 },
 "nbformat": 4,
 "nbformat_minor": 2
}
