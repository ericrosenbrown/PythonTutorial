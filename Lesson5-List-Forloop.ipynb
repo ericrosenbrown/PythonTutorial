{
 "cells": [
  {
   "cell_type": "markdown",
   "metadata": {},
   "source": [
    "# Lesson 5. Lists and For Loops\n",
    "\n",
    "In this tutorial, you will learn a new data type for storing large amounts of data (lists). After that, you wil learn for loops and how to use them in conjunction with lists."
   ]
  },
  {
   "cell_type": "markdown",
   "metadata": {},
   "source": [
    "## Section 1.1. Introduction to Lists\n",
    "\n",
    "Suppose you wanted to make a variable for a name. Perhaps you would do it like this:"
   ]
  },
  {
   "cell_type": "code",
   "execution_count": 1,
   "metadata": {},
   "outputs": [],
   "source": [
    "name = \"Andrew\""
   ]
  },
  {
   "cell_type": "markdown",
   "metadata": {},
   "source": [
    "But what happens when we want to specify ten names? Hundred? A million? It would be technically possible to make a million variables, if you want."
   ]
  },
  {
   "cell_type": "code",
   "execution_count": 3,
   "metadata": {},
   "outputs": [],
   "source": [
    "name1 = \"Alice\"\n",
    "name2 = \"Bob\"\n",
    "name3 = \"Carol\"\n",
    "name4 = \"David\"\n",
    "name5 = \"Eve\"\n",
    "name6 = \"Fred\"\n",
    "\n",
    "# and so on and so forth...\n",
    "\n",
    "print name1\n",
    "print name2\n",
    "print name3\n",
    "print name4\n",
    "\n",
    "# and so on and so forth..."
   ]
  },
  {
   "cell_type": "markdown",
   "metadata": {},
   "source": [
    "A better way to go about doing this is to use lists. Lists are a **data type** that allow you to store multiple pieces of information in one variable. A list can be made as such:"
   ]
  },
  {
   "cell_type": "code",
   "execution_count": 5,
   "metadata": {},
   "outputs": [
    {
     "name": "stdout",
     "output_type": "stream",
     "text": [
      "['Alice', 'Bob', 'Carol', 'David', 'Eve', 'Fred']\n"
     ]
    }
   ],
   "source": [
    "names = [\"Alice\", \"Bob\", \"Carol\", \"David\", \"Eve\", \"Fred\"]\n",
    "\n",
    "print names"
   ]
  },
  {
   "cell_type": "markdown",
   "metadata": {},
   "source": [
    "A list is written using square brackets, and you can store an infinite amount of data inside them. They are also called **arrays** in other programming languages. Every item inside the list is called an **element**. Each element in the list is separated by a comma. \n",
    "\n",
    "Once you create a list, you can access each element in the list by specifying an **index**. The element can be accessed by the name, followed by square brackets with the index inside. See below for an example:"
   ]
  },
  {
   "cell_type": "code",
   "execution_count": 6,
   "metadata": {},
   "outputs": [
    {
     "name": "stdout",
     "output_type": "stream",
     "text": [
      "Alice\n",
      "Bob\n",
      "Carol\n",
      "Fred\n"
     ]
    }
   ],
   "source": [
    "names = [\"Alice\", \"Bob\", \"Carol\", \"David\", \"Eve\", \"Fred\"]\n",
    "\n",
    "print names[0]\n",
    "print names[1]\n",
    "print names[2]\n",
    "print names[5]"
   ]
  },
  {
   "cell_type": "markdown",
   "metadata": {},
   "source": [
    "Notice that indexes begin with a 0, and not a 1. Thus to access the first element in the list, an index of 0 must be specified. To access the second element, an index of 1 must be specified, and so on and so forth.\n",
    "\n",
    "Try making a few lists on your own, and understand how to create list and access them by index. In fact, here's an exercise:\n",
    "\n",
    "**Exercise.** Create a function that takes in a list as an input, and print the first element of the list. This uses both knowledge of functions and lists. For a refresher on how a function works, refer to Lesson 3!"
   ]
  },
  {
   "cell_type": "code",
   "execution_count": 17,
   "metadata": {},
   "outputs": [],
   "source": [
    "# Your code here...\n",
    "\n",
    "\n",
    "\n",
    "\n",
    "\n"
   ]
  },
  {
   "cell_type": "markdown",
   "metadata": {},
   "source": [
    "## Section 1.2. More with lists\n",
    "\n",
    "Now, for a few extra details about lists...\n",
    "\n",
    "As with variables, you can change the values of each element in the list by using the `=` operator:"
   ]
  },
  {
   "cell_type": "code",
   "execution_count": 7,
   "metadata": {},
   "outputs": [
    {
     "name": "stdout",
     "output_type": "stream",
     "text": [
      "['Alice', 'Bob', 'Carol', 'David', 'Eve', 'Fred']\n",
      "['Alice', 'Brendan', 'Carol', 'David', 'Eve', 'Fred']\n"
     ]
    }
   ],
   "source": [
    "names = [\"Alice\", \"Bob\", \"Carol\", \"David\", \"Eve\", \"Fred\"]\n",
    "\n",
    "print names\n",
    "\n",
    "names[1] = \"Brendan\"\n",
    "\n",
    "print names"
   ]
  },
  {
   "cell_type": "markdown",
   "metadata": {},
   "source": [
    "Furthermore, you don't always have to put strings in lists. You can put virtually anything: integers, floats, booleans, and even lists! You can also put variables, but only the value of the variable will be stored, not the actual variable itself. See below for a full example:"
   ]
  },
  {
   "cell_type": "code",
   "execution_count": 16,
   "metadata": {},
   "outputs": [
    {
     "name": "stdout",
     "output_type": "stream",
     "text": [
      "-4.5555\n",
      "True\n",
      "[1, 2, 3]\n",
      "x = 5\n",
      "5\n",
      "x = 999\n",
      "5\n"
     ]
    }
   ],
   "source": [
    "x = 5\n",
    "random_list = [\"AAA\", 1, -4.5555, 5000, True, [1, 2, 3], x]\n",
    "\n",
    "print random_list[2]\n",
    "print random_list[4]\n",
    "print random_list[5]\n",
    "\n",
    "print \"x = 5\"\n",
    "print random_list[6]\n",
    "\n",
    "x = 999\n",
    "print \"x = 999\"\n",
    "print random_list[6]"
   ]
  },
  {
   "cell_type": "markdown",
   "metadata": {},
   "source": [
    "You can also have an empty list, if you want, by using `[]`. \n",
    "\n",
    "Whenever you want to add something to a list, you can use the `append()` function. Likewise, when you want to delete soemthing from a list, you can use the `remove()` function. These functions can be used by typing `listname.append(element)`, where `listname` is the list variable, and `element` is the element to add.\n",
    "\n",
    "Examples are shown below:"
   ]
  },
  {
   "cell_type": "code",
   "execution_count": 20,
   "metadata": {},
   "outputs": [
    {
     "name": "stdout",
     "output_type": "stream",
     "text": [
      "[]\n",
      "[1, 'Hello', True]\n",
      "[1, True]\n"
     ]
    }
   ],
   "source": [
    "my_list = []\n",
    "\n",
    "print my_list\n",
    "\n",
    "my_list.append(1)\n",
    "my_list.append(\"Hello\")\n",
    "my_list.append(True)\n",
    "\n",
    "print my_list\n",
    "\n",
    "my_list.remove(\"Hello\")\n",
    "\n",
    "print my_list"
   ]
  },
  {
   "cell_type": "markdown",
   "metadata": {},
   "source": [
    "Python also provides a length function, `len()`, that returns the length of a list. This function is different from `append()` and `remove()` in that the length function is used as `len(listname)`, where `listname` is the list variable. Notice how the function is used in a different fashion? There's a few reasons as to why, but we will get to that later. For now, just see the example below:"
   ]
  },
  {
   "cell_type": "code",
   "execution_count": 22,
   "metadata": {},
   "outputs": [
    {
     "name": "stdout",
     "output_type": "stream",
     "text": [
      "0\n",
      "3\n",
      "2\n"
     ]
    }
   ],
   "source": [
    "my_list = []\n",
    "\n",
    "print len(my_list)\n",
    "\n",
    "my_list.append(2)\n",
    "my_list.append(999)\n",
    "my_list.append(\"AAA\")\n",
    "\n",
    "print len(my_list)\n",
    "\n",
    "my_list.remove(999)\n",
    "\n",
    "print len(my_list)"
   ]
  },
  {
   "cell_type": "markdown",
   "metadata": {},
   "source": [
    "All the properties of the list data type mentioned in this section is important, so make sure that you know them well. Now, here's another exercise:\n",
    "\n",
    "**Exercise.** Create a function that takes in a list of three or more elements. This function should output another list, that has two elements: the first element in the input list, and the last element in the input list.\n",
    "\n",
    "**Hint.** Try using the `len()` function to get the last element in the input list."
   ]
  },
  {
   "cell_type": "code",
   "execution_count": null,
   "metadata": {},
   "outputs": [],
   "source": [
    "# Your code here....\n",
    "\n",
    "\n",
    "\n",
    "\n",
    "\n",
    "\n"
   ]
  },
  {
   "cell_type": "markdown",
   "metadata": {},
   "source": [
    "## Section 2. For loops\n",
    "\n",
    "We can now define millions of names in one variable, through a list. However, accessing each element in the list is still tedious. Imagine getting a list of names and making a greeting based on each name. Then we would have to make a print statement for each:"
   ]
  },
  {
   "cell_type": "code",
   "execution_count": 23,
   "metadata": {},
   "outputs": [
    {
     "name": "stdout",
     "output_type": "stream",
     "text": [
      "Hello, Alice\n",
      "Hello, Bob\n",
      "Hello, Carol\n",
      "Hello, David\n",
      "Hello, Eve\n"
     ]
    }
   ],
   "source": [
    "names = [\"Alice\", \"Bob\", \"Carol\", \"David\", \"Eve\", \"Fred\"]\n",
    "\n",
    "print \"Hello, \" + names[0]\n",
    "print \"Hello, \" + names[1]\n",
    "print \"Hello, \" + names[2]\n",
    "print \"Hello, \" + names[3]\n",
    "print \"Hello, \" + names[4]\n",
    "\n",
    "# And so on and so forth..."
   ]
  },
  {
   "cell_type": "markdown",
   "metadata": {},
   "source": [
    "A better way is to use a **for loop**. In Python, a for loop allows you to execute some code for every element in the list. A for loop is constructed like below:"
   ]
  },
  {
   "cell_type": "code",
   "execution_count": 26,
   "metadata": {},
   "outputs": [
    {
     "name": "stdout",
     "output_type": "stream",
     "text": [
      "Hello, Alice\n",
      "Now farewell, Alice\n",
      "Hello, Bob\n",
      "Now farewell, Bob\n",
      "Hello, Carol\n",
      "Now farewell, Carol\n",
      "Hello, David\n",
      "Now farewell, David\n",
      "Hello, Eve\n",
      "Now farewell, Eve\n",
      "Hello, Fred\n",
      "Now farewell, Fred\n",
      "I've greeted everyone now.\n"
     ]
    }
   ],
   "source": [
    "names = [\"Alice\", \"Bob\", \"Carol\", \"David\", \"Eve\", \"Fred\"]\n",
    "\n",
    "for each_person in names:\n",
    "    print \"Hello, \" + each_person\n",
    "    print \"Now farewell, \" + each_person\n",
    "\n",
    "print \"I've greeted everyone now.\""
   ]
  },
  {
   "cell_type": "markdown",
   "metadata": {},
   "source": [
    "Let's see what's happening here. Starting in line 3:\n",
    "- The **for** keyword tells the program that we are making a for loop.\n",
    "- The word immediately after is a variable to specify. This variable will be assigned the value of each element in the list, every time the code loops.\n",
    "- The remaining two keywords, `in names`, tells the program that we want to loop through the `names` list. \n",
    "\n",
    "Now for line 4 and 5:\n",
    "- Much like functions, any lines immediately below the the for loop definition, and with **spaces** in front of the line, tells the program that the line is part of the for loop. Thus, lines 4 and 5 are part of the for loop, while line 7 is not part of the for loop.\n",
    "- The variable specified in line 3 can be freely used in the lines of code that are part of the for loop. \n",
    "\n",
    "In total, this is what happens through lines 3 to 5:\n",
    "- A for loop is defined, with `each_person` as the variable name, and `names` as the list to loop through.\n",
    "- Lines 4 and 5 are run, with `each_person` set as \"Alice\".\n",
    "- Lines 4 and 5 are run, with `each_person` set as \"Bob\".\n",
    "- Lines 4 and 5 are run, with `each_person` set as \"Carol\".\n",
    "- Lines 4 and 5 are run, with `each_person` set as \"David\".\n",
    "- Lines 4 and 5 are run, with `each_person` set as \"Eve\".\n",
    "- Lines 4 and 5 are run, with `each_person` set as \"Fred\"."
   ]
  },
  {
   "cell_type": "markdown",
   "metadata": {},
   "source": [
    "For loops are simple, but they are very, very powerful. Combined with lists and functions, we can perform a variety of tasks. Let's do some exercises:\n",
    "\n",
    "**Exercise.** Create a function that takes in a list of numbers as an input. It should multiply each element in the list by 2, and then return the list as the output."
   ]
  },
  {
   "cell_type": "code",
   "execution_count": null,
   "metadata": {},
   "outputs": [],
   "source": [
    "# Your code here...\n",
    "\n",
    "\n",
    "\n",
    "\n",
    "\n"
   ]
  },
  {
   "cell_type": "markdown",
   "metadata": {},
   "source": [
    "**Exercise.** Create a function that takes in a list of numbers as an input. Its output should be the sum of all elements within the list. Think of how you can use a for loop for this."
   ]
  },
  {
   "cell_type": "code",
   "execution_count": 28,
   "metadata": {},
   "outputs": [],
   "source": [
    "# Your code here...\n",
    "\n",
    "\n",
    "\n",
    "\n",
    "\n"
   ]
  },
  {
   "cell_type": "markdown",
   "metadata": {},
   "source": [
    "**Exercise.** Create a function that takes in a list of numbers as an input. Its output should be the average of all elements within the list. (Hint: It's very similar to the exercise above!)"
   ]
  },
  {
   "cell_type": "code",
   "execution_count": 29,
   "metadata": {},
   "outputs": [],
   "source": [
    "# Your code here...\n",
    "\n",
    "\n",
    "\n",
    "\n",
    "\n"
   ]
  },
  {
   "cell_type": "markdown",
   "metadata": {},
   "source": [
    "**Exercise.** Create a GPA calculator. More specifically, create a function that takes in a list of grades as an input (e.g. `[\"A\", \"B\", \"C\", \"A\"]`). Convert each of the letter grades into a number (Hint: use an if statement!). Then, take the average of the numbers to get your GPA (Hint: It's very similar to the exercise above!)"
   ]
  },
  {
   "cell_type": "code",
   "execution_count": null,
   "metadata": {},
   "outputs": [],
   "source": [
    "# Your code here...\n",
    "\n",
    "\n",
    "\n",
    "\n",
    "\n"
   ]
  },
  {
   "cell_type": "markdown",
   "metadata": {},
   "source": [
    "---\n",
    "\n",
    "That was a lot of content; make sure you review them thoroughly. So far you've learned:\n",
    "- How to use lists to store large amounts of data in one variable\n",
    "- The various properties of lists, and how to manipulate lists\n",
    "- What for loops are\n",
    "- Combining for loops and functions to create more interesting functions\n",
    "\n",
    "We're nearly done with the basics! "
   ]
  },
  {
   "cell_type": "code",
   "execution_count": null,
   "metadata": {},
   "outputs": [],
   "source": []
  }
 ],
 "metadata": {
  "kernelspec": {
   "display_name": "Python 2",
   "language": "python",
   "name": "python2"
  },
  "language_info": {
   "codemirror_mode": {
    "name": "ipython",
    "version": 2
   },
   "file_extension": ".py",
   "mimetype": "text/x-python",
   "name": "python",
   "nbconvert_exporter": "python",
   "pygments_lexer": "ipython2",
   "version": "2.7.14"
  }
 },
 "nbformat": 4,
 "nbformat_minor": 2
}
