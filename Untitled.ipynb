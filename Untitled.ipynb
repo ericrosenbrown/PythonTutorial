{
 "cells": [
  {
   "cell_type": "markdown",
   "metadata": {},
   "source": [
    "This is Brown's Google igniteCS tutorial for learning Python 2.7!\n",
    "\n",
    "Python is a programming language that we can use to do a large number of things! We will be learning about how to use Python in this online notebook! Just like a real notebook, there are sections for where things can go, like notes, examples, homework, doodles, ect. This section you are currently reading is called a 'Markdown' section, which means it simply displays text and does not run anycode. However, directly below this section is a 'Code' section where you can type and run python. For example, below is some basic python code to check if 1+1 is equivalent to 4-2. You can run the code by clicking on the code section and then hitting shift+enter, or hitting the run button at the top of screen."
   ]
  },
  {
   "cell_type": "code",
   "execution_count": 2,
   "metadata": {
    "collapsed": false
   },
   "outputs": [
    {
     "data": {
      "text/plain": [
       "True"
      ]
     },
     "execution_count": 2,
     "metadata": {},
     "output_type": "execute_result"
    }
   ],
   "source": [
    "1+1 == 4-2"
   ]
  },
  {
   "cell_type": "markdown",
   "metadata": {},
   "source": [
    "Nice job!"
   ]
  },
  {
   "cell_type": "code",
   "execution_count": null,
   "metadata": {
    "collapsed": true
   },
   "outputs": [],
   "source": []
  }
 ],
 "metadata": {
  "kernelspec": {
   "display_name": "Python 2",
   "language": "python",
   "name": "python2"
  },
  "language_info": {
   "codemirror_mode": {
    "name": "ipython",
    "version": 2
   },
   "file_extension": ".py",
   "mimetype": "text/x-python",
   "name": "python",
   "nbconvert_exporter": "python",
   "pygments_lexer": "ipython2",
   "version": "2.7.9"
  }
 },
 "nbformat": 4,
 "nbformat_minor": 2
}
